{
 "cells": [
  {
   "cell_type": "markdown",
   "metadata": {},
   "source": [
    "## PTG Plotting Routines\n",
    "\n",
    "Create a plot like figure 2 in the paper"
   ]
  },
  {
   "cell_type": "code",
   "execution_count": 2,
   "metadata": {},
   "outputs": [],
   "source": [
    "import matplotlib\n",
    "from matplotlib.pyplot import figure\n",
    "from matplotlib import pyplot as plt\n",
    "import numpy as np\n",
    "import pickle as pkl"
   ]
  },
  {
   "cell_type": "code",
   "execution_count": null,
   "metadata": {},
   "outputs": [],
   "source": [
    "# File where ptg info is stored\n",
    "filename = #########\n",
    "# The desired credible interval widths for the experiment\n",
    "widths = [5e-3, 6e-3, 7e-3, 8e-3, 9e-3, 1e-2]\n",
    "widths_str = [\"5e-3\", \"6e-3\", \"7e-3\", \"8e-3\", \"9e-3\", \"1e-2\"]\n",
    "# The initial perturbations used in the experiment\n",
    "inital = \"200\""
   ]
  },
  {
   "cell_type": "code",
   "execution_count": null,
   "metadata": {},
   "outputs": [],
   "source": [
    "# Load data\n",
    "with open(filename, 'rb') as f:\n",
    "    data = pkl.load(f)\n",
    "data_np = np.array(data)"
   ]
  },
  {
   "cell_type": "code",
   "execution_count": null,
   "metadata": {},
   "outputs": [],
   "source": [
    "# Plots\n",
    "matplotlib.rcParams.update({'font.size': 35})\n",
    "figure(figsize=(13,10))\n",
    "plt.rc('xtick',labelsize=35)\n",
    "plt.rc('ytick',labelsize=35)\n",
    "ax = plt.gca() \n",
    "\n",
    "# Plot boxplots \n",
    "ax.boxplot(data, labels=widths_str, notch=False, widths=[.6] * len(widths), showfliers=False)\n",
    "\n",
    "# Setup yticks\n",
    "ax.set_yticklabels([\"5e-3\", \"7e-3\", \"9e-3\", \"1.1e-2\", \"1.3e-2\"][::-1])\n",
    "ax.set_yticks([5e-3, 7e-3,  9e-3, 1.1e-2, 1.3e-2][::-1])\n",
    "\n",
    "# Plot along x axis\n",
    "ax.plot([i+1 for i in range(len(widths))], widths ,c=\"#92DCE5\",linewidth=5.0)\n",
    "ax.scatter([i+1 for i in range(len(widths))], widths, s=75)\n",
    "\n",
    "# Setup labels\n",
    "ax.set_title(\"Bayes{}, 200 Initial Perturbations\".format(\"LIME\"), fontsize=35)\n",
    "ax.set_ylabel(\"Observed W\")\n",
    "ax.set_xlabel(\"Desired W\")\n",
    "plt.tight_layout()\n",
    "plt.savefig(\"ptg.pdf\")"
   ]
  }
 ],
 "metadata": {
  "kernelspec": {
   "display_name": "Python 3",
   "language": "python",
   "name": "python3"
  },
  "language_info": {
   "codemirror_mode": {
    "name": "ipython",
    "version": 3
   },
   "file_extension": ".py",
   "mimetype": "text/x-python",
   "name": "python",
   "nbconvert_exporter": "python",
   "pygments_lexer": "ipython3",
   "version": "3.7.4"
  }
 },
 "nbformat": 4,
 "nbformat_minor": 2
}
