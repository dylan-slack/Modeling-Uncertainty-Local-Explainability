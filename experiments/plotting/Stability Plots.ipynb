{
 "cells": [
  {
   "cell_type": "code",
   "execution_count": null,
   "metadata": {},
   "outputs": [],
   "source": [
    "import pickle as pkl\n",
    "import numpy as np\n",
    "from matplotlib import pyplot as plt\n",
    "from scipy import stats\n",
    "import seaborn as sns\n",
    "import pandas as pd"
   ]
  },
  {
   "cell_type": "code",
   "execution_count": null,
   "metadata": {},
   "outputs": [],
   "source": [
    "BASELINE, BAYES = 0, 1\n",
    "BONCORRECT_COEF = 2\n",
    "names = [[\"ImageNet\"]*40, [\"MNIST\"]*40, [\"German\"]*40, [\"Compas\"]*40]"
   ]
  },
  {
   "cell_type": "code",
   "execution_count": null,
   "metadata": {},
   "outputs": [],
   "source": [
    "lime_stability = []\n",
    "with open(\"imagenet_blime_stability\", \"rb\") as f:\n",
    "    lime_stability.append(pkl.load(f))\n",
    "with open(\"mnist_4_blime_stability\", \"rb\") as f:\n",
    "    lime_stability.append(pkl.load(f))\n",
    "with open(\"german_blime_stability\", \"rb\") as f:\n",
    "    lime_stability.append(pkl.load(f))\n",
    "with open(\"compas_blime_stability\", \"rb\") as f:\n",
    "    lime_stability.append(pkl.load(f))\n",
    "    \n",
    "shap_stability = []\n",
    "with open(\"imagenet_bshap_stability\", \"rb\") as f:\n",
    "    shap_stability.append(pkl.load(f))\n",
    "with open(\"mnist_4_bshap_stability\", \"rb\") as f:\n",
    "    shap_stability.append(pkl.load(f))\n",
    "with open(\"german_bshap_stability\", \"rb\") as f:\n",
    "    shap_stability.append(pkl.load(f))\n",
    "with open(\"german_blime_stability\", \"rb\") as f:\n",
    "    shap_stability.append(pkl.load(f))\n",
    "lime_stability = np.array(lime_stability)\n",
    "shap_stability = np.array(shap_stability)"
   ]
  },
  {
   "cell_type": "code",
   "execution_count": null,
   "metadata": {},
   "outputs": [],
   "source": [
    "def get_pct_change(baseline, bayes):\n",
    "    baseline, bayes = baseline.tolist(), bayes.tolist()\n",
    "    pcts = []\n",
    "    for bs, by in zip(baseline, bayes):\n",
    "        dif = bs - by\n",
    "        abs_dif = abs(dif)\n",
    "        if dif > 0:\n",
    "            pcts.append(abs_dif / bs)\n",
    "        else:\n",
    "            pcts.append(-1 * abs_dif / bs)\n",
    "    return np.array(pcts) * 100"
   ]
  },
  {
   "cell_type": "code",
   "execution_count": null,
   "metadata": {},
   "outputs": [],
   "source": [
    "# LIME \n",
    "lime_pct_changes = []\n",
    "for i in range(lime_stability.shape[0]):\n",
    "    lime_pct_changes.append(get_pct_change(lime_stability[i][BASELINE], lime_stability[i][BAYES]))\n",
    "    print(\"Wilcoxon Alternative Less:\", BONCORRECT_COEF * stats.wilcoxon(lime_stability[i][BASELINE], lime_stability[i][BAYES], alternative='greater')[1])\n",
    "    print(\"Wilcoxon Alternative Equal:\", BONCORRECT_COEF * stats.wilcoxon(lime_stability[i][BASELINE], lime_stability[i][BAYES])[1])"
   ]
  },
  {
   "cell_type": "code",
   "execution_count": null,
   "metadata": {},
   "outputs": [],
   "source": [
    "# SHAP\n",
    "shap_pct_changes = []\n",
    "for i in range(shap_stability.shape[0]):\n",
    "    shap_pct_changes.append(get_pct_change(shap_stability[i][BASELINE], shap_stability[i][BAYES]))\n",
    "    print(\"Wilcoxon Alternative Less:\", BONCORRECT_COEF * stats.wilcoxon(shap_stability[i][BASELINE], shap_stability[i][BAYES], alternative='greater')[1])\n",
    "    print(\"Wilcoxon Alternative Equal:\", BONCORRECT_COEF * stats.wilcoxon(shap_stability[i][BASELINE], shap_stability[i][BAYES])[1])"
   ]
  },
  {
   "cell_type": "code",
   "execution_count": null,
   "metadata": {},
   "outputs": [],
   "source": [
    "lime_df = pd.DataFrame()\n",
    "lime_df['names'] = np.concatenate(names)\n",
    "lime_df['BayesLIME % Increase in Stability'] = np.concatenate(lime_pct_changes)\n",
    "\n",
    "plt.cla()\n",
    "sns.set(font_scale=2.2, style=\"whitegrid\")\n",
    "plt.figure(figsize=(10,4))\n",
    "\n",
    "ax = sns.boxplot(x='BayesLIME % Increase in Stability', y='names', data=lime_df, color='skyblue', fliersize=0)\n",
    "ax = sns.stripplot(x='BayesLIME % Increase in Stability', y='names', data=lime_df, color='b', size=5, alpha=0.8)\n",
    "\n",
    "plt.plot([0,0],[-5,5], color='r', linestyle=\"--\", linewidth=3.0)\n",
    "ax.set(ylabel=None)\n",
    "ax.grid(False)\n",
    "ax.set(ylim=[-1,4])\n",
    "plt.tight_layout()\n",
    "plt.savefig(f'stability_lime.pdf')"
   ]
  },
  {
   "cell_type": "code",
   "execution_count": null,
   "metadata": {},
   "outputs": [],
   "source": [
    "shap_df = pd.DataFrame()\n",
    "shap_df['names'] = np.concatenate(names)\n",
    "shap_df['BayesSHAP % Increase in Stability'] = np.concatenate(shap_pct_changes)\n",
    "\n",
    "plt.cla()\n",
    "sns.set(font_scale=2.2, style=\"whitegrid\")\n",
    "plt.figure(figsize=(10,4))\n",
    "\n",
    "ax = sns.boxplot(x='BayesSHAP % Increase in Stability', y='names', data=shap_df, color='skyblue', fliersize=0)\n",
    "ax = sns.stripplot(x='BayesSHAP % Increase in Stability', y='names', data=shap_df, color='b', size=5, alpha=0.8)\n",
    "\n",
    "plt.plot([0,0],[-5,5], color='r', linestyle=\"--\", linewidth=3.0)\n",
    "ax.set(ylabel=None)\n",
    "ax.grid(False)\n",
    "ax.set(ylim=[-1,4])\n",
    "plt.tight_layout()\n",
    "plt.savefig(f'stability_shap.pdf')"
   ]
  }
 ],
 "metadata": {
  "kernelspec": {
   "display_name": "Python 3",
   "language": "python",
   "name": "python3"
  },
  "language_info": {
   "codemirror_mode": {
    "name": "ipython",
    "version": 3
   },
   "file_extension": ".py",
   "mimetype": "text/x-python",
   "name": "python",
   "nbconvert_exporter": "python",
   "pygments_lexer": "ipython3",
   "version": "3.7.4"
  }
 },
 "nbformat": 4,
 "nbformat_minor": 2
}
